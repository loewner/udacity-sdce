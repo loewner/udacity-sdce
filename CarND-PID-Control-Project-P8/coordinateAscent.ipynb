{
 "cells": [
  {
   "cell_type": "code",
   "execution_count": 40,
   "metadata": {
    "collapsed": true
   },
   "outputs": [],
   "source": [
    "%%bash --out windowID --err err\n",
    "# find simulator window id\n",
    "xdotool search --name 'self_driving_car_nanodegree_program'"
   ]
  },
  {
   "cell_type": "code",
   "execution_count": 41,
   "metadata": {},
   "outputs": [
    {
     "name": "stdout",
     "output_type": "stream",
     "text": [
      "found following windowID: 41943046\n",
      "\n"
     ]
    }
   ],
   "source": [
    "if (windowID == ''):\n",
    "    print(\"ERROR: no window id found\")\n",
    "else:\n",
    "    print(\"found following windowID: \" + str(windowID))\n",
    "    windowID = str(windowID)"
   ]
  },
  {
   "cell_type": "code",
   "execution_count": null,
   "metadata": {},
   "outputs": [
    {
     "name": "stdout",
     "output_type": "stream",
     "text": [
      "b'680.648'\n",
      "b'330.793'\n",
      "b'329.676'\n"
     ]
    }
   ],
   "source": [
    "import random\n",
    "import numpy as np\n",
    "import matplotlib.pyplot as plt\n",
    "import subprocess\n",
    "import time\n",
    "import os\n",
    "%matplotlib inline  \n",
    "sleepTime = 0.5\n",
    "\n",
    "\n",
    "def alarm():\n",
    "    duration = 0.5  # second\n",
    "    freq = 240  # Hz\n",
    "    os.system('play --no-show-progress --null --channels 1 synth %s sine %f' % (duration, freq))\n",
    "\n",
    "def startSimulation():\n",
    "    # start current simulation\n",
    "    # uncomment to activate window\n",
    "    #subprocess.call([\"xdotool\", \"windowactivate\", windowID])\n",
    "    #time.sleep(sleepTime)\n",
    "    subprocess.call([\"xdotool\", \"mousemove\", \"596\", \"359\"])\n",
    "    time.sleep(sleepTime)\n",
    "    subprocess.call([\"xdotool\", \"click\", \"1\"])\n",
    "    time.sleep(sleepTime)\n",
    "    subprocess.call([\"xdotool\", \"click\", \"1\"])\n",
    "    time.sleep(sleepTime)\n",
    "    subprocess.call([\"xdotool\", \"click\", \"1\"])\n",
    "    time.sleep(sleepTime)\n",
    "    subprocess.call([\"xdotool\", \"mousemove\", \"369\", \"445\"])\n",
    "    time.sleep(sleepTime)\n",
    "    subprocess.call([\"xdotool\", \"click\", \"1\"])\n",
    "    time.sleep(sleepTime)\n",
    "    \n",
    "\n",
    "def exitSimulation():\n",
    "    # exit current simulation\n",
    "    # uncomment to activate window\n",
    "    #subprocess.call([\"xdotool\", \"xdotool\", \"windowactivate\", windowID])\n",
    "    #time.sleep(sleepTime)\n",
    "    subprocess.call([\"xdotool\", \"mousemove\", \"389\", \"41\"])\n",
    "    time.sleep(sleepTime)\n",
    "    subprocess.call([\"xdotool\", \"click\", \"1\"]) \n",
    "    time.sleep(sleepTime)\n",
    "    subprocess.call([\"xdotool\", \"key\", \"Escape\"])\n",
    "    time.sleep(sleepTime)\n",
    "\n",
    "# run the cpp PID controller\n",
    "def startPIDcontroller(params, N):\n",
    "    process = subprocess.Popen([\"./build/pid\", str(params[0]), str(params[1]), str(params[2]), str(N)], stdout=subprocess.PIPE)\n",
    "    out, err = process.communicate()\n",
    "    return out\n",
    "\n",
    "# NOTE: We use params instead of tau_p, tau_d, tau_i\n",
    "def run(params, n=1200):\n",
    "    startSimulation()\n",
    "    err = startPIDcontroller(params, n)\n",
    "    print(err)\n",
    "    writeRunToFile(\"./twiddle.out\", params, float(err)/n)\n",
    "    exitSimulation()\n",
    "    return float(err)/n\n",
    "\n",
    "# write each simulator run to a file\n",
    "def writeRunToFile(fn, p, best_err):\n",
    "    f = open(fn, \"a\")\n",
    "    f.write(\"new run: \" + str(p) + \": \" + str(best_err) + \"\\n\")\n",
    "    f.close()\n",
    "    \n",
    "# write parameter to a file\n",
    "def writeParamsToFile(fn, dp, weights, p, best_err):\n",
    "    f = open(fn, \"a\")\n",
    "    f.write(\"-->changed dp: \"+ str(dp) + \" (sum: \" + str(sum([float(a)*b for a,b in zip(dp,weights)])) + \")\" + \n",
    "            \", p: \" + str(p) + \", best_err: \" + str(best_err) + \"\\n\")\n",
    "    f.close()\n",
    "\n",
    "# Make this tolerance bigger if you are timing out!\n",
    "def twiddle(start_p = [0.1, 0.001, 1.0], \n",
    "            start_dp = [1,1,1],\n",
    "            weights=[10,1000,1], \n",
    "            tol=0.01): \n",
    "    p = start_p\n",
    "    dp = start_dp\n",
    "    dp = [float(a)/b for a,b in zip(dp,weights)]\n",
    "    best_err = run(p)\n",
    "    writeParamsToFile(\"./twiddle.out\", dp, weights, p, best_err)\n",
    "    \n",
    "    # twiddle loop\n",
    "    while sum([float(a)*b for a,b in zip(dp,weights)]) > tol:\n",
    "        for i in range(len(dp)):\n",
    "            p[i] += dp[i]\n",
    "            err = run(p)\n",
    "            if err < best_err:\n",
    "                best_err = err\n",
    "                dp[i] *= 1.1\n",
    "                writeParamsToFile(\"./twiddle.out\", dp, weights, p, best_err)\n",
    "                \n",
    "            else:\n",
    "                p[i] -= 2*dp[i]\n",
    "                err = run(p)\n",
    "                if err < best_err:\n",
    "                    best_err = err\n",
    "                    dp[i] *= 1.1\n",
    "                    writeParamsToFile(\"./twiddle.out\", dp, weights, p, best_err)\n",
    "                else:\n",
    "                    p[i] += dp[i];\n",
    "                    dp[i]*=0.9\n",
    "                    writeParamsToFile(\"./twiddle.out\", dp, weights, p, best_err)\n",
    "    \n",
    "    return p, best_err\n",
    "\n",
    "\n",
    "params, err = twiddle()\n",
    "print(\"Final twiddle error = {}\".format(err))\n"
   ]
  },
  {
   "cell_type": "code",
   "execution_count": null,
   "metadata": {
    "collapsed": true
   },
   "outputs": [],
   "source": []
  },
  {
   "cell_type": "code",
   "execution_count": 29,
   "metadata": {},
   "outputs": [
    {
     "data": {
      "text/plain": [
       "[0.18036159739366794, 9.999999999998899e-05, 4.286364811121022]"
      ]
     },
     "execution_count": 29,
     "metadata": {},
     "output_type": "execute_result"
    }
   ],
   "source": [
    "params"
   ]
  }
 ],
 "metadata": {
  "kernelspec": {
   "display_name": "Python 3",
   "language": "python",
   "name": "python3"
  },
  "language_info": {
   "codemirror_mode": {
    "name": "ipython",
    "version": 3
   },
   "file_extension": ".py",
   "mimetype": "text/x-python",
   "name": "python",
   "nbconvert_exporter": "python",
   "pygments_lexer": "ipython3",
   "version": "3.6.3"
  }
 },
 "nbformat": 4,
 "nbformat_minor": 2
}
