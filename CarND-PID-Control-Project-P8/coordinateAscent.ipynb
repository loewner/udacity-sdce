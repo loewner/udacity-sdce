{
 "cells": [
  {
   "cell_type": "code",
   "execution_count": null,
   "metadata": {},
   "outputs": [],
   "source": [
    "import random\n",
    "import numpy as np\n",
    "import matplotlib.pyplot as plt\n",
    "import subprocess\n",
    "%matplotlib inline  \n",
    "\n",
    "def startSimulation():\n",
    "    # start current simulation\n",
    "    subprocess.call([\"xdotool\", \"mousemove\", \"596\", \"359\"])\n",
    "    subprocess.call([\"xdotool\", \"click\", \"1\"])\n",
    "    subprocess.call([\"xdotool\", \"click\", \"1\"])\n",
    "    subprocess.call([\"xdotool\", \"click\", \"1\"])\n",
    "    subprocess.call([\"xdotool\", \"mousemove\", \"369\", \"445\"])\n",
    "    subprocess.call([\"xdotool\", \"click\", \"1\"])\n",
    "\n",
    "def exitSimulation():\n",
    "    # exit current simulation\n",
    "    subprocess.call([\"xdotool\", \"mousemove\", \"389\", \"41\"])\n",
    "    subprocess.call([\"xdotool\", \"click\", \"1\"])\n",
    "    subprocess.call([\"xdotool\", \"key\", \"Escape\"])\n",
    "    \n",
    "def startPIDcontroller(params, N):\n",
    "    process = subprocess.Popen([\"./build/pid\", str(params[0]), str(params[1]), str(params[2]), str(N)], stdout=subprocess.PIPE)\n",
    "    out, err = process.communicate()\n",
    "    return out\n",
    "\n",
    "# NOTE: We use params instead of tau_p, tau_d, tau_i\n",
    "def run(params, n=1000):\n",
    "    startSimulation()\n",
    "    err = startPIDcontroller(params, n)\n",
    "    writeToFile(\"./twiddle.out\", params, err)\n",
    "    exitSimulation()\n",
    "    return err\n",
    "\n",
    "# write each simulator run to a file\n",
    "def writeToFile(fn, p, best_err):\n",
    "    f = open(fn, \"a\")\n",
    "    f.write(str(p) + \": \" + str(best_err) + \"\\n\")\n",
    "    f.close()\n",
    "\n",
    "# Make this tolerance bigger if you are timing out!\n",
    "def twiddle(tol=0.2): \n",
    "    # Don't forget to call `make_robot` before every call of `run`!\n",
    "    p = [0, 0, 0]\n",
    "    dp = [1, 1, 1]\n",
    "    best_err = run(p)\n",
    "    \n",
    "    # TODO: twiddle loop here\n",
    "    while sum(dp) > tol:\n",
    "        for i in range(len(dp)):\n",
    "            p[i] += dp[i]\n",
    "            err = run(p)\n",
    "            if err < best_err:\n",
    "                best_err = err\n",
    "                dp[i] *= 1.1\n",
    "            else:\n",
    "                p[i] -= 2*dp[i]\n",
    "                err = run(p)\n",
    "                if err < best_err:\n",
    "                    best_err = err\n",
    "                    dp[i] *= 1.1\n",
    "                else:\n",
    "                    p[i] += dp[i];\n",
    "                    dp[i]*=0.9\n",
    "    \n",
    "    return p, best_err\n",
    "\n",
    "\n",
    "params, err = twiddle()\n",
    "print(\"Final twiddle error = {}\".format(err))\n"
   ]
  },
  {
   "cell_type": "code",
   "execution_count": 52,
   "metadata": {},
   "outputs": [
    {
     "name": "stdout",
     "output_type": "stream",
     "text": [
      "323.609\n"
     ]
    }
   ],
   "source": [
    "startSimulation()\n",
    "err = startPIDcontroller([0.02,0,1.5], 200)\n",
    "exitSimulation()\n",
    "print(float(err))"
   ]
  }
 ],
 "metadata": {
  "kernelspec": {
   "display_name": "Python 3",
   "language": "python",
   "name": "python3"
  },
  "language_info": {
   "codemirror_mode": {
    "name": "ipython",
    "version": 3
   },
   "file_extension": ".py",
   "mimetype": "text/x-python",
   "name": "python",
   "nbconvert_exporter": "python",
   "pygments_lexer": "ipython3",
   "version": "3.6.3"
  }
 },
 "nbformat": 4,
 "nbformat_minor": 2
}
